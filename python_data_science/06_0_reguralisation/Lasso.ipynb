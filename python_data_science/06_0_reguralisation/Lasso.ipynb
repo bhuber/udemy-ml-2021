{
 "cells": [
  {
   "cell_type": "markdown",
   "metadata": {},
   "source": [
    "The loss function is similar to ridge regression, except that we use L1 penalty:\n",
    "\n",
    "$$\n",
    "\\begin{align}\n",
    "\\mathcal{L} &= \\frac{1}{N}\\sum_{i=1}^N (y_i - \\hat{y}_i)^2 + \\lambda \\sum_{k=1}^K |w_k|\n",
    "\\end{align}\n",
    "$$"
   ]
  },
  {
   "cell_type": "code",
   "execution_count": 59,
   "metadata": {},
   "outputs": [],
   "source": [
    "import pandas as pd\n",
    "import numpy as np\n",
    "import matplotlib.pyplot as plt\n",
    "from tqdm.auto import tqdm\n",
    "\n",
    "%matplotlib inline"
   ]
  },
  {
   "cell_type": "markdown",
   "metadata": {},
   "source": [
    "Download the S&P 500 stock data from kaggle: https://www.kaggle.com/camnugent/sandp500"
   ]
  },
  {
   "cell_type": "code",
   "execution_count": 60,
   "metadata": {},
   "outputs": [
    {
     "data": {
      "text/html": [
       "<div>\n",
       "<style scoped>\n",
       "    .dataframe tbody tr th:only-of-type {\n",
       "        vertical-align: middle;\n",
       "    }\n",
       "\n",
       "    .dataframe tbody tr th {\n",
       "        vertical-align: top;\n",
       "    }\n",
       "\n",
       "    .dataframe thead th {\n",
       "        text-align: right;\n",
       "    }\n",
       "</style>\n",
       "<table border=\"1\" class=\"dataframe\">\n",
       "  <thead>\n",
       "    <tr style=\"text-align: right;\">\n",
       "      <th></th>\n",
       "      <th>open</th>\n",
       "      <th>high</th>\n",
       "      <th>low</th>\n",
       "      <th>close</th>\n",
       "      <th>volume</th>\n",
       "      <th>Name</th>\n",
       "    </tr>\n",
       "    <tr>\n",
       "      <th>date</th>\n",
       "      <th></th>\n",
       "      <th></th>\n",
       "      <th></th>\n",
       "      <th></th>\n",
       "      <th></th>\n",
       "      <th></th>\n",
       "    </tr>\n",
       "  </thead>\n",
       "  <tbody>\n",
       "    <tr>\n",
       "      <th>2013-02-08</th>\n",
       "      <td>15.07</td>\n",
       "      <td>15.12</td>\n",
       "      <td>14.63</td>\n",
       "      <td>14.75</td>\n",
       "      <td>8407500</td>\n",
       "      <td>AAL</td>\n",
       "    </tr>\n",
       "    <tr>\n",
       "      <th>2013-02-11</th>\n",
       "      <td>14.89</td>\n",
       "      <td>15.01</td>\n",
       "      <td>14.26</td>\n",
       "      <td>14.46</td>\n",
       "      <td>8882000</td>\n",
       "      <td>AAL</td>\n",
       "    </tr>\n",
       "    <tr>\n",
       "      <th>2013-02-12</th>\n",
       "      <td>14.45</td>\n",
       "      <td>14.51</td>\n",
       "      <td>14.10</td>\n",
       "      <td>14.27</td>\n",
       "      <td>8126000</td>\n",
       "      <td>AAL</td>\n",
       "    </tr>\n",
       "    <tr>\n",
       "      <th>2013-02-13</th>\n",
       "      <td>14.30</td>\n",
       "      <td>14.94</td>\n",
       "      <td>14.25</td>\n",
       "      <td>14.66</td>\n",
       "      <td>10259500</td>\n",
       "      <td>AAL</td>\n",
       "    </tr>\n",
       "    <tr>\n",
       "      <th>2013-02-14</th>\n",
       "      <td>14.94</td>\n",
       "      <td>14.96</td>\n",
       "      <td>13.16</td>\n",
       "      <td>13.99</td>\n",
       "      <td>31879900</td>\n",
       "      <td>AAL</td>\n",
       "    </tr>\n",
       "  </tbody>\n",
       "</table>\n",
       "</div>"
      ],
      "text/plain": [
       "             open   high    low  close    volume Name\n",
       "date                                                 \n",
       "2013-02-08  15.07  15.12  14.63  14.75   8407500  AAL\n",
       "2013-02-11  14.89  15.01  14.26  14.46   8882000  AAL\n",
       "2013-02-12  14.45  14.51  14.10  14.27   8126000  AAL\n",
       "2013-02-13  14.30  14.94  14.25  14.66  10259500  AAL\n",
       "2013-02-14  14.94  14.96  13.16  13.99  31879900  AAL"
      ]
     },
     "execution_count": 60,
     "metadata": {},
     "output_type": "execute_result"
    }
   ],
   "source": [
    "df = pd.read_csv(\"/tmp/all_stocks_5yr.csv\")\n",
    "df[\"date\"] = pd.to_datetime(df[\"date\"])\n",
    "df.set_index(\"date\", inplace=True)\n",
    "df.head()"
   ]
  },
  {
   "cell_type": "code",
   "execution_count": 61,
   "metadata": {},
   "outputs": [
    {
     "data": {
      "application/vnd.jupyter.widget-view+json": {
       "model_id": "c8e7c2bafbae44ffb184865854613a17",
       "version_major": 2,
       "version_minor": 0
      },
      "text/plain": [
       "HBox(children=(FloatProgress(value=0.0, max=505.0), HTML(value='')))"
      ]
     },
     "metadata": {},
     "output_type": "display_data"
    },
    {
     "name": "stdout",
     "output_type": "stream",
     "text": [
      "\n"
     ]
    }
   ],
   "source": [
    "stocks = {}\n",
    "for name, grp in tqdm(df.groupby(\"Name\")):\n",
    "    previous_price = grp[\"close\"].shift()\n",
    "    stock_returns = grp[\"close\"] / previous_price\n",
    "    stocks[name] = stock_returns"
   ]
  },
  {
   "cell_type": "code",
   "execution_count": 63,
   "metadata": {},
   "outputs": [
    {
     "data": {
      "text/plain": [
       "'ZTS'"
      ]
     },
     "execution_count": 63,
     "metadata": {},
     "output_type": "execute_result"
    }
   ],
   "source": [
    "name"
   ]
  },
  {
   "cell_type": "code",
   "execution_count": 62,
   "metadata": {},
   "outputs": [
    {
     "data": {
      "text/plain": [
       "date\n",
       "2013-02-08         NaN\n",
       "2013-02-11    1.006354\n",
       "2013-02-12    1.014432\n",
       "2013-02-13    0.994369\n",
       "2013-02-14    0.991654\n",
       "                ...   \n",
       "2018-02-01    1.014206\n",
       "2018-02-02    0.986636\n",
       "2018-02-05    0.961579\n",
       "2018-02-06    0.992415\n",
       "2018-02-07    1.008052\n",
       "Name: close, Length: 1259, dtype: float64"
      ]
     },
     "execution_count": 62,
     "metadata": {},
     "output_type": "execute_result"
    }
   ],
   "source": [
    "stocks[name]"
   ]
  },
  {
   "cell_type": "code",
   "execution_count": 64,
   "metadata": {},
   "outputs": [
    {
     "data": {
      "text/html": [
       "<div>\n",
       "<style scoped>\n",
       "    .dataframe tbody tr th:only-of-type {\n",
       "        vertical-align: middle;\n",
       "    }\n",
       "\n",
       "    .dataframe tbody tr th {\n",
       "        vertical-align: top;\n",
       "    }\n",
       "\n",
       "    .dataframe thead th {\n",
       "        text-align: right;\n",
       "    }\n",
       "</style>\n",
       "<table border=\"1\" class=\"dataframe\">\n",
       "  <thead>\n",
       "    <tr style=\"text-align: right;\">\n",
       "      <th></th>\n",
       "      <th>A</th>\n",
       "      <th>AAL</th>\n",
       "      <th>AAP</th>\n",
       "      <th>AAPL</th>\n",
       "      <th>ABBV</th>\n",
       "      <th>ABC</th>\n",
       "      <th>ABT</th>\n",
       "      <th>ACN</th>\n",
       "      <th>ADBE</th>\n",
       "      <th>ADI</th>\n",
       "      <th>...</th>\n",
       "      <th>XL</th>\n",
       "      <th>XLNX</th>\n",
       "      <th>XOM</th>\n",
       "      <th>XRAY</th>\n",
       "      <th>XRX</th>\n",
       "      <th>XYL</th>\n",
       "      <th>YUM</th>\n",
       "      <th>ZBH</th>\n",
       "      <th>ZION</th>\n",
       "      <th>ZTS</th>\n",
       "    </tr>\n",
       "    <tr>\n",
       "      <th>date</th>\n",
       "      <th></th>\n",
       "      <th></th>\n",
       "      <th></th>\n",
       "      <th></th>\n",
       "      <th></th>\n",
       "      <th></th>\n",
       "      <th></th>\n",
       "      <th></th>\n",
       "      <th></th>\n",
       "      <th></th>\n",
       "      <th></th>\n",
       "      <th></th>\n",
       "      <th></th>\n",
       "      <th></th>\n",
       "      <th></th>\n",
       "      <th></th>\n",
       "      <th></th>\n",
       "      <th></th>\n",
       "      <th></th>\n",
       "      <th></th>\n",
       "      <th></th>\n",
       "    </tr>\n",
       "  </thead>\n",
       "  <tbody>\n",
       "    <tr>\n",
       "      <th>2013-02-08</th>\n",
       "      <td>NaN</td>\n",
       "      <td>NaN</td>\n",
       "      <td>NaN</td>\n",
       "      <td>NaN</td>\n",
       "      <td>NaN</td>\n",
       "      <td>NaN</td>\n",
       "      <td>NaN</td>\n",
       "      <td>NaN</td>\n",
       "      <td>NaN</td>\n",
       "      <td>NaN</td>\n",
       "      <td>...</td>\n",
       "      <td>NaN</td>\n",
       "      <td>NaN</td>\n",
       "      <td>NaN</td>\n",
       "      <td>NaN</td>\n",
       "      <td>NaN</td>\n",
       "      <td>NaN</td>\n",
       "      <td>NaN</td>\n",
       "      <td>NaN</td>\n",
       "      <td>NaN</td>\n",
       "      <td>NaN</td>\n",
       "    </tr>\n",
       "    <tr>\n",
       "      <th>2013-02-11</th>\n",
       "      <td>0.989352</td>\n",
       "      <td>0.980339</td>\n",
       "      <td>0.993536</td>\n",
       "      <td>1.010422</td>\n",
       "      <td>0.988966</td>\n",
       "      <td>0.997228</td>\n",
       "      <td>0.995641</td>\n",
       "      <td>0.996726</td>\n",
       "      <td>0.987730</td>\n",
       "      <td>1.008315</td>\n",
       "      <td>...</td>\n",
       "      <td>1.002479</td>\n",
       "      <td>0.998667</td>\n",
       "      <td>0.996276</td>\n",
       "      <td>0.999300</td>\n",
       "      <td>1.003769</td>\n",
       "      <td>1.013658</td>\n",
       "      <td>0.988515</td>\n",
       "      <td>0.997363</td>\n",
       "      <td>1.002900</td>\n",
       "      <td>1.006354</td>\n",
       "    </tr>\n",
       "    <tr>\n",
       "      <th>2013-02-12</th>\n",
       "      <td>1.000448</td>\n",
       "      <td>0.986860</td>\n",
       "      <td>1.002679</td>\n",
       "      <td>0.974933</td>\n",
       "      <td>0.988006</td>\n",
       "      <td>1.004277</td>\n",
       "      <td>1.001168</td>\n",
       "      <td>1.004106</td>\n",
       "      <td>1.006470</td>\n",
       "      <td>1.004123</td>\n",
       "      <td>...</td>\n",
       "      <td>1.003532</td>\n",
       "      <td>1.003203</td>\n",
       "      <td>1.002039</td>\n",
       "      <td>1.000700</td>\n",
       "      <td>0.996245</td>\n",
       "      <td>1.017844</td>\n",
       "      <td>1.003098</td>\n",
       "      <td>0.997224</td>\n",
       "      <td>1.011565</td>\n",
       "      <td>1.014432</td>\n",
       "    </tr>\n",
       "    <tr>\n",
       "      <th>2013-02-13</th>\n",
       "      <td>1.002913</td>\n",
       "      <td>1.027330</td>\n",
       "      <td>1.004707</td>\n",
       "      <td>0.998097</td>\n",
       "      <td>0.995765</td>\n",
       "      <td>0.993186</td>\n",
       "      <td>1.004665</td>\n",
       "      <td>1.002590</td>\n",
       "      <td>0.997943</td>\n",
       "      <td>0.999784</td>\n",
       "      <td>...</td>\n",
       "      <td>1.000352</td>\n",
       "      <td>1.005854</td>\n",
       "      <td>1.002374</td>\n",
       "      <td>1.004899</td>\n",
       "      <td>1.005025</td>\n",
       "      <td>1.011091</td>\n",
       "      <td>0.994749</td>\n",
       "      <td>1.007423</td>\n",
       "      <td>1.010208</td>\n",
       "      <td>0.994369</td>\n",
       "    </tr>\n",
       "    <tr>\n",
       "      <th>2013-02-14</th>\n",
       "      <td>0.996201</td>\n",
       "      <td>0.954297</td>\n",
       "      <td>0.998354</td>\n",
       "      <td>0.999101</td>\n",
       "      <td>1.036859</td>\n",
       "      <td>1.002787</td>\n",
       "      <td>1.006965</td>\n",
       "      <td>0.994154</td>\n",
       "      <td>0.994847</td>\n",
       "      <td>1.006053</td>\n",
       "      <td>...</td>\n",
       "      <td>0.992963</td>\n",
       "      <td>1.016931</td>\n",
       "      <td>0.998308</td>\n",
       "      <td>0.996054</td>\n",
       "      <td>1.003750</td>\n",
       "      <td>1.007431</td>\n",
       "      <td>0.991927</td>\n",
       "      <td>1.004474</td>\n",
       "      <td>0.995554</td>\n",
       "      <td>0.991654</td>\n",
       "    </tr>\n",
       "    <tr>\n",
       "      <th>...</th>\n",
       "      <td>...</td>\n",
       "      <td>...</td>\n",
       "      <td>...</td>\n",
       "      <td>...</td>\n",
       "      <td>...</td>\n",
       "      <td>...</td>\n",
       "      <td>...</td>\n",
       "      <td>...</td>\n",
       "      <td>...</td>\n",
       "      <td>...</td>\n",
       "      <td>...</td>\n",
       "      <td>...</td>\n",
       "      <td>...</td>\n",
       "      <td>...</td>\n",
       "      <td>...</td>\n",
       "      <td>...</td>\n",
       "      <td>...</td>\n",
       "      <td>...</td>\n",
       "      <td>...</td>\n",
       "      <td>...</td>\n",
       "      <td>...</td>\n",
       "    </tr>\n",
       "    <tr>\n",
       "      <th>2018-02-01</th>\n",
       "      <td>0.991829</td>\n",
       "      <td>0.991900</td>\n",
       "      <td>1.002564</td>\n",
       "      <td>1.002090</td>\n",
       "      <td>1.036714</td>\n",
       "      <td>0.996187</td>\n",
       "      <td>1.000322</td>\n",
       "      <td>0.998507</td>\n",
       "      <td>0.998098</td>\n",
       "      <td>0.997497</td>\n",
       "      <td>...</td>\n",
       "      <td>0.998643</td>\n",
       "      <td>0.992742</td>\n",
       "      <td>1.020275</td>\n",
       "      <td>0.998684</td>\n",
       "      <td>0.959566</td>\n",
       "      <td>1.035704</td>\n",
       "      <td>0.992789</td>\n",
       "      <td>1.008417</td>\n",
       "      <td>1.017583</td>\n",
       "      <td>1.014206</td>\n",
       "    </tr>\n",
       "    <tr>\n",
       "      <th>2018-02-02</th>\n",
       "      <td>0.978306</td>\n",
       "      <td>0.966964</td>\n",
       "      <td>0.971353</td>\n",
       "      <td>0.956610</td>\n",
       "      <td>0.989943</td>\n",
       "      <td>0.967066</td>\n",
       "      <td>0.992120</td>\n",
       "      <td>0.977814</td>\n",
       "      <td>0.981242</td>\n",
       "      <td>0.972286</td>\n",
       "      <td>...</td>\n",
       "      <td>1.039685</td>\n",
       "      <td>0.974479</td>\n",
       "      <td>0.949029</td>\n",
       "      <td>0.988968</td>\n",
       "      <td>0.965802</td>\n",
       "      <td>1.010957</td>\n",
       "      <td>0.983925</td>\n",
       "      <td>0.981278</td>\n",
       "      <td>0.984904</td>\n",
       "      <td>0.986636</td>\n",
       "    </tr>\n",
       "    <tr>\n",
       "      <th>2018-02-05</th>\n",
       "      <td>0.957474</td>\n",
       "      <td>0.955086</td>\n",
       "      <td>0.964276</td>\n",
       "      <td>0.975016</td>\n",
       "      <td>0.950855</td>\n",
       "      <td>0.957092</td>\n",
       "      <td>0.952018</td>\n",
       "      <td>0.967686</td>\n",
       "      <td>0.972552</td>\n",
       "      <td>0.958366</td>\n",
       "      <td>...</td>\n",
       "      <td>0.985098</td>\n",
       "      <td>0.948046</td>\n",
       "      <td>0.943097</td>\n",
       "      <td>0.974692</td>\n",
       "      <td>0.992096</td>\n",
       "      <td>0.960349</td>\n",
       "      <td>0.965751</td>\n",
       "      <td>0.979251</td>\n",
       "      <td>0.953832</td>\n",
       "      <td>0.961579</td>\n",
       "    </tr>\n",
       "    <tr>\n",
       "      <th>2018-02-06</th>\n",
       "      <td>1.003371</td>\n",
       "      <td>1.028537</td>\n",
       "      <td>1.021300</td>\n",
       "      <td>1.041792</td>\n",
       "      <td>1.015432</td>\n",
       "      <td>0.996083</td>\n",
       "      <td>1.002214</td>\n",
       "      <td>1.018837</td>\n",
       "      <td>1.022074</td>\n",
       "      <td>1.036768</td>\n",
       "      <td>...</td>\n",
       "      <td>0.990977</td>\n",
       "      <td>1.030163</td>\n",
       "      <td>0.982815</td>\n",
       "      <td>0.998633</td>\n",
       "      <td>0.983110</td>\n",
       "      <td>0.981696</td>\n",
       "      <td>1.009774</td>\n",
       "      <td>0.992856</td>\n",
       "      <td>1.016844</td>\n",
       "      <td>0.992415</td>\n",
       "    </tr>\n",
       "    <tr>\n",
       "      <th>2018-02-07</th>\n",
       "      <td>0.994302</td>\n",
       "      <td>1.004299</td>\n",
       "      <td>0.979768</td>\n",
       "      <td>0.978593</td>\n",
       "      <td>1.021763</td>\n",
       "      <td>1.029277</td>\n",
       "      <td>0.996772</td>\n",
       "      <td>1.002974</td>\n",
       "      <td>0.989047</td>\n",
       "      <td>0.963971</td>\n",
       "      <td>...</td>\n",
       "      <td>1.124799</td>\n",
       "      <td>0.970720</td>\n",
       "      <td>0.982004</td>\n",
       "      <td>0.997263</td>\n",
       "      <td>1.010697</td>\n",
       "      <td>1.006449</td>\n",
       "      <td>0.994415</td>\n",
       "      <td>0.987572</td>\n",
       "      <td>1.028561</td>\n",
       "      <td>1.008052</td>\n",
       "    </tr>\n",
       "  </tbody>\n",
       "</table>\n",
       "<p>1259 rows × 505 columns</p>\n",
       "</div>"
      ],
      "text/plain": [
       "                   A       AAL       AAP      AAPL      ABBV       ABC  \\\n",
       "date                                                                     \n",
       "2013-02-08       NaN       NaN       NaN       NaN       NaN       NaN   \n",
       "2013-02-11  0.989352  0.980339  0.993536  1.010422  0.988966  0.997228   \n",
       "2013-02-12  1.000448  0.986860  1.002679  0.974933  0.988006  1.004277   \n",
       "2013-02-13  1.002913  1.027330  1.004707  0.998097  0.995765  0.993186   \n",
       "2013-02-14  0.996201  0.954297  0.998354  0.999101  1.036859  1.002787   \n",
       "...              ...       ...       ...       ...       ...       ...   \n",
       "2018-02-01  0.991829  0.991900  1.002564  1.002090  1.036714  0.996187   \n",
       "2018-02-02  0.978306  0.966964  0.971353  0.956610  0.989943  0.967066   \n",
       "2018-02-05  0.957474  0.955086  0.964276  0.975016  0.950855  0.957092   \n",
       "2018-02-06  1.003371  1.028537  1.021300  1.041792  1.015432  0.996083   \n",
       "2018-02-07  0.994302  1.004299  0.979768  0.978593  1.021763  1.029277   \n",
       "\n",
       "                 ABT       ACN      ADBE       ADI  ...        XL      XLNX  \\\n",
       "date                                                ...                       \n",
       "2013-02-08       NaN       NaN       NaN       NaN  ...       NaN       NaN   \n",
       "2013-02-11  0.995641  0.996726  0.987730  1.008315  ...  1.002479  0.998667   \n",
       "2013-02-12  1.001168  1.004106  1.006470  1.004123  ...  1.003532  1.003203   \n",
       "2013-02-13  1.004665  1.002590  0.997943  0.999784  ...  1.000352  1.005854   \n",
       "2013-02-14  1.006965  0.994154  0.994847  1.006053  ...  0.992963  1.016931   \n",
       "...              ...       ...       ...       ...  ...       ...       ...   \n",
       "2018-02-01  1.000322  0.998507  0.998098  0.997497  ...  0.998643  0.992742   \n",
       "2018-02-02  0.992120  0.977814  0.981242  0.972286  ...  1.039685  0.974479   \n",
       "2018-02-05  0.952018  0.967686  0.972552  0.958366  ...  0.985098  0.948046   \n",
       "2018-02-06  1.002214  1.018837  1.022074  1.036768  ...  0.990977  1.030163   \n",
       "2018-02-07  0.996772  1.002974  0.989047  0.963971  ...  1.124799  0.970720   \n",
       "\n",
       "                 XOM      XRAY       XRX       XYL       YUM       ZBH  \\\n",
       "date                                                                     \n",
       "2013-02-08       NaN       NaN       NaN       NaN       NaN       NaN   \n",
       "2013-02-11  0.996276  0.999300  1.003769  1.013658  0.988515  0.997363   \n",
       "2013-02-12  1.002039  1.000700  0.996245  1.017844  1.003098  0.997224   \n",
       "2013-02-13  1.002374  1.004899  1.005025  1.011091  0.994749  1.007423   \n",
       "2013-02-14  0.998308  0.996054  1.003750  1.007431  0.991927  1.004474   \n",
       "...              ...       ...       ...       ...       ...       ...   \n",
       "2018-02-01  1.020275  0.998684  0.959566  1.035704  0.992789  1.008417   \n",
       "2018-02-02  0.949029  0.988968  0.965802  1.010957  0.983925  0.981278   \n",
       "2018-02-05  0.943097  0.974692  0.992096  0.960349  0.965751  0.979251   \n",
       "2018-02-06  0.982815  0.998633  0.983110  0.981696  1.009774  0.992856   \n",
       "2018-02-07  0.982004  0.997263  1.010697  1.006449  0.994415  0.987572   \n",
       "\n",
       "                ZION       ZTS  \n",
       "date                            \n",
       "2013-02-08       NaN       NaN  \n",
       "2013-02-11  1.002900  1.006354  \n",
       "2013-02-12  1.011565  1.014432  \n",
       "2013-02-13  1.010208  0.994369  \n",
       "2013-02-14  0.995554  0.991654  \n",
       "...              ...       ...  \n",
       "2018-02-01  1.017583  1.014206  \n",
       "2018-02-02  0.984904  0.986636  \n",
       "2018-02-05  0.953832  0.961579  \n",
       "2018-02-06  1.016844  0.992415  \n",
       "2018-02-07  1.028561  1.008052  \n",
       "\n",
       "[1259 rows x 505 columns]"
      ]
     },
     "execution_count": 64,
     "metadata": {},
     "output_type": "execute_result"
    }
   ],
   "source": [
    "stock_returns_df = pd.concat([stocks[key] for key in stocks.keys()], axis=1)\n",
    "stock_returns_df.columns = [key for key in stocks.keys()]\n",
    "stock_returns_df"
   ]
  },
  {
   "cell_type": "code",
   "execution_count": 69,
   "metadata": {},
   "outputs": [
    {
     "data": {
      "text/plain": [
       "(1258, 505)"
      ]
     },
     "execution_count": 69,
     "metadata": {},
     "output_type": "execute_result"
    }
   ],
   "source": [
    "stock_returns_df.dropna().shape"
   ]
  },
  {
   "cell_type": "code",
   "execution_count": 68,
   "metadata": {},
   "outputs": [
    {
     "name": "stderr",
     "output_type": "stream",
     "text": [
      "/Users/sachinthaka/opt/miniconda3/lib/python3.7/site-packages/pandas/core/series.py:4523: SettingWithCopyWarning: \n",
      "A value is trying to be set on a copy of a slice from a DataFrame\n",
      "\n",
      "See the caveats in the documentation: https://pandas.pydata.org/pandas-docs/stable/user_guide/indexing.html#returning-a-view-versus-a-copy\n",
      "  downcast=downcast,\n"
     ]
    }
   ],
   "source": [
    "stock_returns_df = stock_returns_df.iloc[1:, :]\n",
    "stock_returns_df.fillna(stock_returns_df.median().to_dict(), inplace=True)"
   ]
  },
  {
   "cell_type": "code",
   "execution_count": 42,
   "metadata": {},
   "outputs": [],
   "source": [
    "from sklearn.linear_model import LinearRegression, Lasso"
   ]
  },
  {
   "cell_type": "code",
   "execution_count": 73,
   "metadata": {},
   "outputs": [
    {
     "name": "stdout",
     "output_type": "stream",
     "text": [
      "(1258, 504)\n"
     ]
    }
   ],
   "source": [
    "y_col = \"AAPL\"\n",
    "y = stock_returns_df[y_col]\n",
    "x = stock_returns_df.drop(y_col, axis=1)\n",
    "print(x.shape)"
   ]
  },
  {
   "cell_type": "code",
   "execution_count": 74,
   "metadata": {},
   "outputs": [
    {
     "data": {
      "text/plain": [
       "array([-0.02006946,  0.00510233,  0.00207531,  0.00635897,  0.02139995,\n",
       "        0.06872295,  0.01355047,  0.02347363,  0.05106605,  0.02697582,\n",
       "        0.01053292,  0.00417121,  0.05467436,  0.02171521,  0.05696464,\n",
       "        0.01847754,  0.00195575,  0.00089243,  0.0292934 ,  0.06897482,\n",
       "        0.01988944,  0.00285239,  0.01277602, -0.00151686,  0.01392881,\n",
       "        0.00939048,  0.04642274,  0.00305502,  0.00044084,  0.09564664,\n",
       "        0.02400158,  0.02214763, -0.01700085,  0.00195108])"
      ]
     },
     "execution_count": 74,
     "metadata": {},
     "output_type": "execute_result"
    }
   ],
   "source": [
    "model = Lasso(alpha=1e-5)\n",
    "model.fit(x, y)\n",
    "model.coef_[model.coef_!=0]"
   ]
  },
  {
   "cell_type": "code",
   "execution_count": 75,
   "metadata": {},
   "outputs": [
    {
     "data": {
      "text/plain": [
       "0.29974589591860745"
      ]
     },
     "execution_count": 75,
     "metadata": {},
     "output_type": "execute_result"
    }
   ],
   "source": [
    "model.intercept_"
   ]
  },
  {
   "cell_type": "code",
   "execution_count": 76,
   "metadata": {},
   "outputs": [
    {
     "data": {
      "text/plain": [
       "Index(['AKAM', 'AMD', 'AMZN', 'ARNC', 'ATVI', 'AVGO', 'BBY', 'CAT', 'COL',\n",
       "       'CSCO', 'DE', 'EA', 'FB', 'GLW', 'GOOG', 'HBI', 'HOLX', 'ISRG', 'LRCX',\n",
       "       'MSFT', 'NCLH', 'NFLX', 'NLSN', 'NRG', 'NTAP', 'QCOM', 'QRVO', 'RMD',\n",
       "       'STX', 'SWKS', 'TSS', 'TXT', 'UAA', 'WMB'],\n",
       "      dtype='object')"
      ]
     },
     "execution_count": 76,
     "metadata": {},
     "output_type": "execute_result"
    }
   ],
   "source": [
    "x.columns[model.coef_!=0]"
   ]
  },
  {
   "cell_type": "code",
   "execution_count": 82,
   "metadata": {},
   "outputs": [
    {
     "data": {
      "text/plain": [
       "array([ 0.31420686,  0.04947003,  0.00412033,  0.0008302 ,  0.00035555,\n",
       "       -0.00664194,  0.0250305 , -0.01498768,  0.00460399,  0.01838211,\n",
       "        0.00113236,  0.17389286,  0.08260883,  0.04162725, -0.00255051,\n",
       "        0.1371705 ,  0.00205606,  0.08322128, -0.00134361,  0.01985888,\n",
       "        0.02197792,  0.00182359,  0.006705  ,  0.00564813])"
      ]
     },
     "execution_count": 82,
     "metadata": {},
     "output_type": "execute_result"
    }
   ],
   "source": [
    "y_col = \"BAC\"\n",
    "y = stock_returns_df[y_col]\n",
    "x = stock_returns_df.drop(y_col, axis=1)\n",
    "\n",
    "model = Lasso(alpha=1e-5)\n",
    "model.fit(x, y)\n",
    "model.coef_[model.coef_!=0]"
   ]
  },
  {
   "cell_type": "code",
   "execution_count": 78,
   "metadata": {},
   "outputs": [
    {
     "data": {
      "text/plain": [
       "Index(['C', 'CFG', 'CMA', 'CMG', 'DVN', 'ED', 'ETFC', 'ETR', 'FB', 'FITB',\n",
       "       'INCY', 'JPM', 'KEY', 'LNC', 'LNT', 'MS', 'NFX', 'RF', 'SCG', 'SCHW',\n",
       "       'STI', 'UAA', 'URI', 'WFC'],\n",
       "      dtype='object')"
      ]
     },
     "execution_count": 78,
     "metadata": {},
     "output_type": "execute_result"
    }
   ],
   "source": [
    "x.columns[model.coef_!=0]"
   ]
  },
  {
   "cell_type": "markdown",
   "metadata": {},
   "source": [
    "Elements of statistical learning: https://web.stanford.edu/~hastie/Papers/ESLII.pdf"
   ]
  },
  {
   "cell_type": "code",
   "execution_count": null,
   "metadata": {},
   "outputs": [],
   "source": []
  }
 ],
 "metadata": {
  "kernelspec": {
   "display_name": "Python 3",
   "language": "python",
   "name": "python3"
  },
  "language_info": {
   "codemirror_mode": {
    "name": "ipython",
    "version": 3
   },
   "file_extension": ".py",
   "mimetype": "text/x-python",
   "name": "python",
   "nbconvert_exporter": "python",
   "pygments_lexer": "ipython3",
   "version": "3.7.9"
  }
 },
 "nbformat": 4,
 "nbformat_minor": 4
}

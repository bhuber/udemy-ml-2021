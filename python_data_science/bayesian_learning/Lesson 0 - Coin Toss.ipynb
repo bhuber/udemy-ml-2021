{
 "cells": [
  {
   "cell_type": "markdown",
   "metadata": {
    "colab_type": "text",
    "id": "9_ILjjQ2t69W"
   },
   "source": [
    "# Bayesian Statistics\n",
    "\n",
    "Bayes rule\n",
    "$$\n",
    "p(\\theta| D) = \\frac{p(D|\\theta)p(\\theta)}{p(D)}\n",
    "$$\n",
    "However, in the samples that we will soon see it is far more convenient to write the above as\n",
    "$$\n",
    "p(\\theta| D) \\propto p(D|\\theta)p(\\theta)\n",
    "$$\n",
    "since $p(D)$ is a constant **that does not depend on $\\theta$**.\n",
    "\n",
    "However, we Bayesian analysis is far more involved in solving the following integral:\n",
    "$$\n",
    "p(D^*|D) = \\int p(D^*|\\theta)p(\\theta|D) d\\theta\n",
    "$$\n",
    "We denote $D^*$ to be test data, $D$ to be the train set and $\\theta$ to be a hidden parameter. This can often be thought of as doing model averaging if $p(\\theta|D)$ is thought of as a weighting function.\n",
    "\n",
    "## Coin Tossing Example\n",
    "\n",
    "Suppose we have a biased coin where the true probability of landing heads is 0.6. We assume however, (for some odd reason that it is biased towards landing tails). A suitable prior for this would be a beta distribution which has the following functional form:\n",
    "$$\n",
    "p(\\theta) = \\frac{\\Gamma(\\alpha)\\Gamma(\\beta)}{\\Gamma(\\alpha + \\beta)}\\theta^{\\alpha - 1}(1-\\theta)^{\\beta - 1}\n",
    "$$\n",
    "and the distribution looks like (https://en.wikipedia.org/wiki/Beta_distribution):\n",
    "![beta](./images/Beta_distribution_pdf.svg.png)\n",
    "\n",
    "Since we believe it is left skewed we will choose $\\alpha < \\beta$. Let $\\alpha = 2$, $\\beta = 3$ and hence, **this forms our prior distribution**. Assume that after 10 coin tosses we observe 7 heads and 3 tails. Each (individual) coin toss is distributed as a bernoulli distribution, conditional on $\\theta$, the probability of achieving a heads. At this point a frequentist method (I don't mean this in a derogative fashion) would state that the probability of receiving a heads is 0.7.\n",
    "\n",
    "The likelihood of the data can be states as follows:\n",
    "$$ p(y_1, \\cdots, y_{10}| \\theta) = \\prod_{i=1}^{10} p(y_i|\\theta)$$ since each draw is independent **given $\\theta$** where, $p(y_i|\\theta) = \\theta^{1(y_i=1)}(1-\\theta)^{1(y_i=0)}$. Hence in our example, the likelihood $ p(y_1, \\cdots, y_{10}| \\theta) = \\theta^7(1-\\theta)^3$. **Keep in mind that $\\theta$ is considered fixed as far as the likelihood is concerned**, hence it is a bernoullii distribution, **not a beta distribution**.\n",
    "\n",
    "### The posterior\n",
    "\\begin{align}\n",
    "p(\\theta | y) \\propto & \\quad p(y|\\theta) p(\\theta) \\\\\n",
    "\\propto & \\quad \\theta^7(1-\\theta)^3 \\theta^2(1-\\theta)^3 = \\theta^{9}(1-\\theta)^6\n",
    "\\end{align}\n",
    "The normalising constant is irrelevant as we can see that the posterior $p(\\theta | y)$ is a beta distribution simply by looking at its functional form. In fact the normalising constant (also known as the partition function) is simply,\n",
    "$$\\int_0^1 \\theta^{9}(1-\\theta)^6 d\\theta$$ since all probability distributions integrate out to one. In this case this turns out to be $\\frac{\\Gamma(9)\\Gamma(6)}{\\Gamma(15)}$. What is far more important to recognise than the normalising constant is that $\\theta \\sim Be(9, 6)$.\n",
    "\n",
    "### The probability of $p(y^*=1|y)$\n",
    "\\begin{align}\n",
    "p(y^*=1|y) &= \\int p(y^*=1|\\theta)p(\\theta|y) d\\theta\n",
    "\\end{align}\n",
    "\n",
    "A frequentist method would have chosen the Maximum-A-Posteriori (MAP) estimate and plugged into $\\theta$ without integrating it out. \n",
    "$$\n",
    "\\begin{align}\n",
    "p(y^*=1|y) &= \\int p(y^*=1|\\theta)p(\\theta|y) d\\theta \\\\\n",
    "&= \\int \\theta \\frac{\\Gamma(15)}{\\Gamma(9)\\Gamma(6)} \\theta^{9}(1-\\theta)^6 d\\theta\\\\\n",
    "&= \\frac{\\Gamma(15)}{\\Gamma(9)\\Gamma(6)} \\int\\theta^{10}(1-\\theta)^6 d\\theta\\\\\n",
    "&= \\frac{\\Gamma(15)}{\\Gamma(9)\\Gamma(6)} \\frac{\\Gamma(10)\\Gamma(6)}{\\Gamma(16)} \\int\\frac{\\Gamma(16)}{\\Gamma(10)\\Gamma(6)}\\theta^{10}(1-\\theta)^6 d\\theta \\\\\n",
    "&= \\frac{\\Gamma(15)}{\\Gamma(9)\\Gamma(6)} \\frac{\\Gamma(10)\\Gamma(6)}{\\Gamma(16)}  \\quad 1 \\\\\n",
    "&= \\frac{9}{15}\n",
    "\\end{align}\n",
    "$$\n",
    "Note the rule $\\Gamma(n) = (n-1)\\Gamma(n-1)$ was used."
   ]
  },
  {
   "cell_type": "code",
   "execution_count": 1,
   "metadata": {
    "colab": {},
    "colab_type": "code",
    "id": "thWKBRnzt69X"
   },
   "outputs": [
    {
     "name": "stderr",
     "output_type": "stream",
     "text": [
      "/Users/sachin/miniconda3/lib/python3.6/site-packages/h5py/__init__.py:36: FutureWarning: Conversion of the second argument of issubdtype from `float` to `np.floating` is deprecated. In future, it will be treated as `np.float64 == np.dtype(float).type`.\n",
      "  from ._conv import register_converters as _register_converters\n"
     ]
    }
   ],
   "source": [
    "import pandas as pd\n",
    "import numpy as np\n",
    "import matplotlib.pyplot as plt\n",
    "\n",
    "import pymc3 as pm\n",
    "\n",
    "from scipy.special import gamma\n",
    "\n",
    "%matplotlib inline"
   ]
  },
  {
   "cell_type": "code",
   "execution_count": 2,
   "metadata": {
    "colab": {},
    "colab_type": "code",
    "id": "UWnHuMikt69b",
    "outputId": "ddfaecf3-abc2-454f-b51b-29f5d2efc011"
   },
   "outputs": [
    {
     "name": "stderr",
     "output_type": "stream",
     "text": [
      "Auto-assigning NUTS sampler...\n",
      "Initializing NUTS using jitter+adapt_diag...\n",
      "Multiprocess sampling (4 chains in 4 jobs)\n",
      "NUTS: [θ]\n",
      "Sampling 4 chains: 100%|██████████| 42000/42000 [00:09<00:00, 4301.23draws/s]\n"
     ]
    }
   ],
   "source": [
    "alpha = 2\n",
    "beta = 3\n",
    "y_obs = np.zeros(10)\n",
    "y_obs[:7] = 1\n",
    "niter = 10000\n",
    "\n",
    "with pm.Model() as model:\n",
    "    θ = pm.Beta('θ', alpha=alpha, beta=beta)\n",
    "    y = pm.Bernoulli('y', p=θ, observed=y_obs)\n",
    "    \n",
    "    trace = pm.sample(niter)"
   ]
  },
  {
   "cell_type": "code",
   "execution_count": 3,
   "metadata": {
    "colab": {},
    "colab_type": "code",
    "id": "qb1Qa_7rt69g"
   },
   "outputs": [],
   "source": [
    "# norm_const = gamma(9)*gamma(6)/gamma(15)\n",
    "theta = np.linspace(0,1,1000)\n",
    "post_theta = (theta**9)*(1-theta)**6\n",
    "C = np.sum(post_theta*(theta[1]-theta[0]))\n",
    "post_theta = post_theta/C"
   ]
  },
  {
   "cell_type": "code",
   "execution_count": 4,
   "metadata": {
    "colab": {},
    "colab_type": "code",
    "id": "XzMu5mWOt69k",
    "outputId": "cd4764c7-38ff-48ae-fc46-8ff8b4d47fa3"
   },
   "outputs": [
    {
     "name": "stderr",
     "output_type": "stream",
     "text": [
      "/Users/sachin/miniconda3/lib/python3.6/site-packages/matplotlib/axes/_axes.py:6521: MatplotlibDeprecationWarning: \n",
      "The 'normed' kwarg was deprecated in Matplotlib 2.1 and will be removed in 3.1. Use 'density' instead.\n",
      "  alternative=\"'density'\", removal=\"3.1\")\n"
     ]
    },
    {
     "data": {
      "image/png": "[encoded data removed]",
      "text/plain": [
       "<Figure size 432x288 with 1 Axes>"
      ]
     },
     "metadata": {},
     "output_type": "display_data"
    }
   ],
   "source": [
    "plt.hist(trace['θ'][1000:],100, normed='true')\n",
    "plt.plot(theta, post_theta)\n",
    "plt.show()"
   ]
  },
  {
   "cell_type": "markdown",
   "metadata": {
    "colab_type": "text",
    "id": "pNbdgPQSt69o"
   },
   "source": [
    "$$\\int \\theta p(\\theta | y) d\\theta \\approx \\sum_{\\theta\\sim p(\\theta|y)} \\theta$$"
   ]
  },
  {
   "cell_type": "code",
   "execution_count": 5,
   "metadata": {
    "colab": {},
    "colab_type": "code",
    "id": "vu1xyXzVt69q",
    "outputId": "930e71ed-2423-4786-9026-0c1b16455f8f"
   },
   "outputs": [
    {
     "data": {
      "text/plain": [
       "0.6001982007514259"
      ]
     },
     "execution_count": 5,
     "metadata": {},
     "output_type": "execute_result"
    }
   ],
   "source": [
    "np.mean(trace['θ'][1000:])"
   ]
  },
  {
   "cell_type": "code",
   "execution_count": 0,
   "metadata": {
    "colab": {},
    "colab_type": "code",
    "id": "AsDe6e5xt69u"
   },
   "outputs": [],
   "source": []
  },
  {
   "cell_type": "code",
   "execution_count": 0,
   "metadata": {
    "colab": {},
    "colab_type": "code",
    "id": "-3PoumWPt69x"
   },
   "outputs": [],
   "source": []
  },
  {
   "cell_type": "code",
   "execution_count": 0,
   "metadata": {
    "colab": {},
    "colab_type": "code",
    "id": "CBRwFuf4t690"
   },
   "outputs": [],
   "source": []
  },
  {
   "cell_type": "code",
   "execution_count": 0,
   "metadata": {
    "colab": {},
    "colab_type": "code",
    "id": "SerBvtbrt693"
   },
   "outputs": [],
   "source": []
  }
 ],
 "metadata": {
  "colab": {
   "name": "Lesson 0 - Coin Toss.ipynb",
   "provenance": [],
   "version": "0.3.2"
  },
  "kernelspec": {
   "display_name": "Python 3",
   "language": "python",
   "name": "python3"
  },
  "language_info": {
   "codemirror_mode": {
    "name": "ipython",
    "version": 3
   },
   "file_extension": ".py",
   "mimetype": "text/x-python",
   "name": "python",
   "nbconvert_exporter": "python",
   "pygments_lexer": "ipython3",
   "version": "3.6.7"
  }
 },
 "nbformat": 4,
 "nbformat_minor": 1
}

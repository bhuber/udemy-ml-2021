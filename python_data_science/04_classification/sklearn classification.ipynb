{
 "cells": [
  {
   "cell_type": "code",
   "execution_count": 1,
   "metadata": {},
   "outputs": [],
   "source": [
    "%load_ext autoreload\n",
    "%autoreload 2"
   ]
  },
  {
   "cell_type": "code",
   "execution_count": 2,
   "metadata": {},
   "outputs": [],
   "source": [
    "import pandas as pd\n",
    "from feature_extraction import Featurizer\n",
    "pd.set_option('display.max_columns', None)"
   ]
  },
  {
   "cell_type": "code",
   "execution_count": null,
   "metadata": {},
   "outputs": [
    {
     "name": "stdout",
     "output_type": "stream",
     "text": [
      "--Return--\n",
      "> <ipython-input-4-175d9a48a6d7>(4)<module>()->None\n",
      "-> breakpoint()\n",
      "(Pdb) n\n",
      "> /Users/sachinthaka/opt/miniconda3/lib/python3.7/site-packages/IPython/core/interactiveshell.py(3334)run_code()\n",
      "-> sys.excepthook = old_excepthook\n",
      "(Pdb) c\n",
      "> /Users/sachinthaka/Google Drive/udemy_courses/python_data_science/04_classification/feature_extraction.py(18)get_train_features()\n",
      "-> train_df, val_df = train_test_split(df, test_size=0.1, random_state=42)\n",
      "(Pdb) df.shape\n",
      "(891, 6)\n",
      "(Pdb) df.head()\n",
      "   Survived  Pclass     Sex  SibSp  Parch     Fare\n",
      "0         0       3    male      1      0   7.2500\n",
      "1         1       1  female      1      0  71.2833\n",
      "2         1       3  female      0      0   7.9250\n",
      "3         1       1  female      1      0  53.1000\n",
      "4         0       3    male      0      0   8.0500\n",
      "(Pdb) n\n",
      "> /Users/sachinthaka/Google Drive/udemy_courses/python_data_science/04_classification/feature_extraction.py(19)get_train_features()\n",
      "-> train_df.reset_index(drop=True, inplace=True)\n",
      "(Pdb) n\n",
      "> /Users/sachinthaka/Google Drive/udemy_courses/python_data_science/04_classification/feature_extraction.py(20)get_train_features()\n",
      "-> val_df.reset_index(drop=True, inplace=True)\n",
      "(Pdb) n\n",
      "> /Users/sachinthaka/Google Drive/udemy_courses/python_data_science/04_classification/feature_extraction.py(22)get_train_features()\n",
      "-> train_df[\"Sex\"] = self.le.fit_transform(train_df[\"Sex\"])\n",
      "(Pdb) n\n"
     ]
    },
    {
     "name": "stderr",
     "output_type": "stream",
     "text": [
      "/Users/sachinthaka/Google Drive/udemy_courses/python_data_science/04_classification/feature_extraction.py:22: SettingWithCopyWarning: \n",
      "A value is trying to be set on a copy of a slice from a DataFrame.\n",
      "Try using .loc[row_indexer,col_indexer] = value instead\n",
      "\n",
      "See the caveats in the documentation: https://pandas.pydata.org/pandas-docs/stable/user_guide/indexing.html#returning-a-view-versus-a-copy\n",
      "  train_df[\"Sex\"] = self.le.fit_transform(train_df[\"Sex\"])\n"
     ]
    },
    {
     "name": "stdout",
     "output_type": "stream",
     "text": [
      "> /Users/sachinthaka/Google Drive/udemy_courses/python_data_science/04_classification/feature_extraction.py(23)get_train_features()\n",
      "-> val_df[\"Sex\"] = self.le.transform(val_df[\"Sex\"])\n",
      "(Pdb) n\n"
     ]
    },
    {
     "name": "stderr",
     "output_type": "stream",
     "text": [
      "/Users/sachinthaka/Google Drive/udemy_courses/python_data_science/04_classification/feature_extraction.py:23: SettingWithCopyWarning: \n",
      "A value is trying to be set on a copy of a slice from a DataFrame.\n",
      "Try using .loc[row_indexer,col_indexer] = value instead\n",
      "\n",
      "See the caveats in the documentation: https://pandas.pydata.org/pandas-docs/stable/user_guide/indexing.html#returning-a-view-versus-a-copy\n",
      "  val_df[\"Sex\"] = self.le.transform(val_df[\"Sex\"])\n"
     ]
    },
    {
     "name": "stdout",
     "output_type": "stream",
     "text": [
      "> /Users/sachinthaka/Google Drive/udemy_courses/python_data_science/04_classification/feature_extraction.py(25)get_train_features()\n",
      "-> onehot_vals = self.onehot.fit_transform(train_df[\"Pclass\"].values[:, None]).todense()\n",
      "(Pdb) n\n",
      "> /Users/sachinthaka/Google Drive/udemy_courses/python_data_science/04_classification/feature_extraction.py(26)get_train_features()\n",
      "-> self.class_names = self.onehot.categories_[0][1:]\n",
      "(Pdb) n\n",
      "> /Users/sachinthaka/Google Drive/udemy_courses/python_data_science/04_classification/feature_extraction.py(27)get_train_features()\n",
      "-> pclass = pd.DataFrame(onehot_vals, columns=self.class_names)\n",
      "(Pdb) self.class_names\n",
      "array([2, 3])\n",
      "(Pdb) train_df.head()\n",
      "   Survived  Pclass  Sex  SibSp  Parch     Fare\n",
      "0         1       3    1      0      2  20.5250\n",
      "1         0       3    0      4      2  31.2750\n",
      "2         0       1    1      0      0  32.3208\n",
      "3         0       3    1      0      0   7.7292\n",
      "4         0       3    1      0      0   7.8958\n",
      "(Pdb) n\n",
      "> /Users/sachinthaka/Google Drive/udemy_courses/python_data_science/04_classification/feature_extraction.py(28)get_train_features()\n",
      "-> train_df.drop(\"Pclass\", axis=1, inplace=True)\n",
      "(Pdb) n\n"
     ]
    },
    {
     "name": "stderr",
     "output_type": "stream",
     "text": [
      "/Users/sachinthaka/opt/miniconda3/lib/python3.7/site-packages/pandas/core/frame.py:4164: SettingWithCopyWarning: \n",
      "A value is trying to be set on a copy of a slice from a DataFrame\n",
      "\n",
      "See the caveats in the documentation: https://pandas.pydata.org/pandas-docs/stable/user_guide/indexing.html#returning-a-view-versus-a-copy\n",
      "  errors=errors,\n"
     ]
    },
    {
     "name": "stdout",
     "output_type": "stream",
     "text": [
      "> /Users/sachinthaka/Google Drive/udemy_courses/python_data_science/04_classification/feature_extraction.py(29)get_train_features()\n",
      "-> train_df = pd.concat([train_df, pclass], axis=1)\n",
      "(Pdb) n\n",
      "> /Users/sachinthaka/Google Drive/udemy_courses/python_data_science/04_classification/feature_extraction.py(31)get_train_features()\n",
      "-> onehot_vals = self.onehot.transform(val_df[\"Pclass\"].values[:, None]).todense()\n",
      "(Pdb) train_df.head()\n",
      "   Survived  Sex  SibSp  Parch     Fare    2    3\n",
      "0         1    1      0      2  20.5250  0.0  1.0\n",
      "1         0    0      4      2  31.2750  0.0  1.0\n",
      "2         0    1      0      0  32.3208  0.0  0.0\n",
      "3         0    1      0      0   7.7292  0.0  1.0\n",
      "4         0    1      0      0   7.8958  0.0  1.0\n"
     ]
    }
   ],
   "source": [
    "train_df = pd.read_csv(\"./train.csv\")\n",
    "test_df = pd.read_csv(\"./test.csv\")\n",
    "\n",
    "drop_cols = [\"Name\", \"Age\", \"Ticket\", \"Cabin\", \"Embarked\", \"PassengerId\"]\n",
    "featurizer = Featurizer(drop_cols)\n",
    "train_df, val_df = featurizer.get_train_features(train_df)"
   ]
  },
  {
   "cell_type": "code",
   "execution_count": 4,
   "metadata": {},
   "outputs": [],
   "source": [
    "from sklearn.linear_model import LogisticRegression\n",
    "from sklearn.metrics import accuracy_score"
   ]
  },
  {
   "cell_type": "code",
   "execution_count": 26,
   "metadata": {},
   "outputs": [],
   "source": [
    "model = LogisticRegression()\n",
    "model.fit(train_df.drop(\"Survived\", axis=1), train_df[\"Survived\"])\n",
    "y_pred = model.predict(train_df.drop(\"Survived\", axis=1))"
   ]
  },
  {
   "cell_type": "code",
   "execution_count": 29,
   "metadata": {},
   "outputs": [
    {
     "data": {
      "text/plain": [
       "array([[0.89191127, 0.10808873],\n",
       "       [0.62886612, 0.37113388],\n",
       "       [0.61664039, 0.38335961],\n",
       "       ...,\n",
       "       [0.92476359, 0.07523641],\n",
       "       [0.11031247, 0.88968753],\n",
       "       [0.58866568, 0.41133432]])"
      ]
     },
     "execution_count": 29,
     "metadata": {},
     "output_type": "execute_result"
    }
   ],
   "source": [
    "model.predict_proba(train_df.drop(\"Survived\", axis=1))"
   ]
  },
  {
   "cell_type": "code",
   "execution_count": 31,
   "metadata": {},
   "outputs": [
    {
     "data": {
      "text/plain": [
       "array([0, 0, 0, 0, 0, 0, 0, 0, 1, 0, 0, 0, 1, 0, 0, 0, 1, 0, 0, 0, 1, 0,\n",
       "       1, 0, 1, 0, 0, 0, 1, 1, 0, 1, 1, 0, 0, 0, 1, 0, 1, 0, 1, 0, 0, 1,\n",
       "       0, 1, 1, 0, 0, 1, 0, 1, 0, 0, 1, 1, 0, 0, 1, 0, 0, 0, 0, 1, 0, 0,\n",
       "       0, 1, 1, 1, 0, 0, 0, 1, 0, 0, 0, 1, 0, 0, 0, 1, 0, 1, 0, 0, 1, 1,\n",
       "       1, 0, 0, 0, 0, 0, 1, 0, 0, 0, 0, 1, 0, 0, 0, 0, 1, 1, 1, 0, 1, 0,\n",
       "       0, 1, 1, 1, 0, 1, 0, 0, 0, 0, 1, 0, 1, 0, 0, 0, 1, 0, 1, 0, 0, 1,\n",
       "       0, 0, 0, 1, 0, 0, 1, 1, 0, 1, 0, 1, 0, 1, 1, 1, 1, 0, 0, 1, 0, 1,\n",
       "       0, 0, 0, 0, 0, 0, 1, 0, 0, 0, 0, 0, 0, 1, 0, 1, 1, 0, 1, 0, 0, 0,\n",
       "       0, 0, 0, 0, 1, 0, 0, 0, 1, 0, 0, 0, 1, 0, 0, 0, 1, 0, 0, 0, 1, 0,\n",
       "       0, 0, 0, 0, 1, 1, 0, 0, 0, 0, 0, 1, 1, 0, 0, 0, 0, 0, 0, 1, 0, 0,\n",
       "       0, 1, 0, 0, 0, 1, 1, 1, 0, 0, 0, 0, 0, 0, 1, 1, 0, 1, 1, 0, 0, 0,\n",
       "       1, 0, 0, 0, 1, 1, 0, 0, 0, 0, 0, 0, 0, 0, 1, 0, 0, 0, 1, 0, 0, 0,\n",
       "       1, 0, 0, 0, 0, 0, 1, 1, 1, 0, 1, 1, 0, 0, 0, 0, 1, 0, 0, 0, 0, 0,\n",
       "       1, 1, 1, 0, 1, 1, 1, 1, 0, 0, 0, 0, 0, 1, 1, 1, 1, 1, 1, 1, 0, 0,\n",
       "       0, 1, 1, 0, 1, 0, 1, 1, 1, 0, 1, 1, 0, 0, 1, 1, 0, 1, 1, 0, 0, 0,\n",
       "       1, 0, 0, 0, 0, 0, 1, 0, 1, 1, 1, 0, 1, 0, 0, 0, 0, 0, 0, 0, 0, 0,\n",
       "       0, 0, 0, 0, 0, 1, 0, 0, 0, 0, 1, 0, 0, 0, 0, 0, 0, 0, 0, 0, 1, 0,\n",
       "       0, 0, 0, 0, 1, 1, 1, 0, 0, 0, 1, 1, 0, 1, 1, 0, 1, 1, 1, 0, 0, 0,\n",
       "       0, 1, 1, 0, 1, 0, 0, 0, 1, 0, 0, 0, 0, 1, 1, 0, 0, 1, 0, 0, 0, 0,\n",
       "       1, 0, 1, 0, 0, 0, 0, 0, 1, 1, 0, 1, 0, 0, 1, 0, 0, 0, 0, 1, 1, 0,\n",
       "       0, 0, 0, 0, 0, 0, 0, 1, 0, 0, 1, 1, 0, 1, 1, 0, 1, 0, 0, 1, 1, 1,\n",
       "       0, 1, 0, 1, 0, 1, 0, 0, 0, 0, 0, 0, 1, 0, 0, 1, 0, 0, 0, 0, 0, 0,\n",
       "       1, 0, 0, 0, 0, 0, 0, 1, 0, 0, 1, 1, 0, 0, 1, 0, 0, 0, 1, 0, 0, 0,\n",
       "       0, 0, 0, 1, 0, 1, 0, 0, 1, 0, 0, 1, 1, 0, 0, 0, 0, 1, 1, 0, 0, 0,\n",
       "       0, 1, 0, 1, 0, 0, 0, 1, 1, 0, 0, 0, 0, 0, 0, 1, 0, 0, 0, 0, 0, 0,\n",
       "       1, 1, 1, 1, 1, 0, 0, 0, 1, 1, 1, 0, 0, 0, 0, 0, 1, 1, 0, 0, 0, 1,\n",
       "       0, 1, 0, 0, 1, 0, 0, 0, 0, 1, 1, 0, 0, 0, 0, 0, 0, 1, 0, 0, 1, 0,\n",
       "       0, 0, 0, 0, 0, 0, 0, 0, 0, 0, 0, 1, 1, 1, 0, 0, 1, 0, 0, 0, 0, 1,\n",
       "       1, 0, 0, 0, 0, 0, 0, 0, 0, 1, 1, 0, 1, 0, 0, 0, 0, 0, 0, 1, 0, 1,\n",
       "       1, 0, 0, 0, 0, 1, 0, 0, 0, 0, 1, 0, 0, 0, 0, 0, 0, 0, 1, 1, 0, 1,\n",
       "       0, 0, 1, 1, 1, 0, 1, 1, 1, 0, 0, 0, 0, 1, 0, 0, 0, 0, 0, 0, 0, 1,\n",
       "       0, 0, 0, 0, 1, 0, 1, 0, 1, 1, 1, 0, 0, 0, 1, 1, 1, 1, 0, 0, 0, 0,\n",
       "       0, 1, 1, 0, 0, 1, 1, 0, 1, 0, 1, 0, 1, 0, 0, 0, 0, 1, 1, 0, 0, 0,\n",
       "       1, 0, 0, 0, 1, 0, 1, 0, 0, 1, 1, 0, 1, 0, 1, 1, 1, 0, 1, 0, 0, 0,\n",
       "       0, 0, 1, 0, 0, 0, 0, 0, 0, 0, 0, 0, 0, 0, 1, 1, 0, 1, 0, 0, 0, 0,\n",
       "       0, 1, 0, 0, 0, 0, 0, 0, 0, 0, 0, 0, 0, 1, 0, 0, 0, 1, 1, 0, 0, 0,\n",
       "       0, 0, 1, 0, 1, 0, 0, 1, 0], dtype=int32)"
      ]
     },
     "execution_count": 31,
     "metadata": {},
     "output_type": "execute_result"
    }
   ],
   "source": [
    "import numpy as np\n",
    "prob = model.predict_proba(train_df.drop(\"Survived\", axis=1))\n",
    "(prob[:,1] > 0.5).astype(np.int32)"
   ]
  },
  {
   "cell_type": "code",
   "execution_count": 18,
   "metadata": {},
   "outputs": [
    {
     "data": {
      "text/plain": [
       "0.7952559300873908"
      ]
     },
     "execution_count": 18,
     "metadata": {},
     "output_type": "execute_result"
    }
   ],
   "source": [
    "accuracy_score(train_df[\"Survived\"].values, y_pred)"
   ]
  },
  {
   "cell_type": "code",
   "execution_count": 33,
   "metadata": {},
   "outputs": [
    {
     "data": {
      "text/plain": [
       "0.7952559300873908"
      ]
     },
     "execution_count": 33,
     "metadata": {},
     "output_type": "execute_result"
    }
   ],
   "source": [
    "(train_df[\"Survived\"].values == y_pred).mean()"
   ]
  },
  {
   "cell_type": "code",
   "execution_count": 21,
   "metadata": {},
   "outputs": [
    {
     "data": {
      "text/plain": [
       "0.8222222222222222"
      ]
     },
     "execution_count": 21,
     "metadata": {},
     "output_type": "execute_result"
    }
   ],
   "source": [
    "y_pred = model.predict(val_df.drop(\"Survived\", axis=1))\n",
    "accuracy_score(val_df[\"Survived\"].values.squeeze(), y_pred.squeeze())"
   ]
  },
  {
   "cell_type": "code",
   "execution_count": 9,
   "metadata": {},
   "outputs": [],
   "source": [
    "from typing import Callable, Dict, List, Tuple\n",
    "\n",
    "class Model():\n",
    "    def __init__(\n",
    "        self, \n",
    "        y_col: str,\n",
    "        model: Callable, \n",
    "        metrics:Dict[str, Tuple[str, Callable]]=accuracy_score,\n",
    "                ) -> None:\n",
    "        self.model = model\n",
    "        self.metrics = metrics\n",
    "        self.y_col = y_col\n",
    "        \n",
    "    def print_metric(self, \n",
    "                     metric:Callable, \n",
    "                     metric_name: str,\n",
    "                     metric_y_type: str,\n",
    "                     df:pd.DataFrame, \n",
    "                     data_type:str) -> None:\n",
    "        y_class = self.model.predict(df.drop(self.y_col, axis=1))\n",
    "        y_prob = self.model.predict_proba(df.drop(self.y_col, axis=1))\n",
    "        if metric_y_type == \"prob\":\n",
    "            y_pred= y_prob\n",
    "        else:\n",
    "            y_pred = y_class\n",
    "        metric_val = metric(df[self.y_col].values.squeeze(), y_pred.squeeze())\n",
    "        print(f\"{data_type} {metric_name}: {metric_val:.4f}\")\n",
    "        \n",
    "    def fit(self, train_df: pd.DataFrame, val_df: pd.DataFrame) -> None:\n",
    "        self.model.fit(train_df.drop(self.y_col, axis=1), train_df[self.y_col])\n",
    "        \n",
    "        for name, (metric_y_type, metric) in self.metrics.items():\n",
    "            self.print_metric(metric, name, metric_y_type, train_df, \"Training\")\n",
    "            self.print_metric(metric, name, metric_y_type, val_df, \"Validation\")"
   ]
  },
  {
   "cell_type": "code",
   "execution_count": 10,
   "metadata": {},
   "outputs": [],
   "source": [
    "metric_list = {\"Accuracy\": (\"class\", accuracy_score)}"
   ]
  },
  {
   "cell_type": "code",
   "execution_count": 11,
   "metadata": {},
   "outputs": [
    {
     "name": "stdout",
     "output_type": "stream",
     "text": [
      "Training Accuracy: 0.7953\n",
      "Validation Accuracy: 0.8222\n"
     ]
    }
   ],
   "source": [
    "logistic = LogisticRegression()\n",
    "model = Model(\"Survived\", logistic, metric_list)\n",
    "model.fit(train_df, val_df)"
   ]
  },
  {
   "cell_type": "code",
   "execution_count": 12,
   "metadata": {},
   "outputs": [
    {
     "name": "stdout",
     "output_type": "stream",
     "text": [
      "Training Accuracy: 0.8127\n",
      "Validation Accuracy: 0.8000\n"
     ]
    }
   ],
   "source": [
    "from sklearn.ensemble import RandomForestClassifier\n",
    "\n",
    "random_forest = RandomForestClassifier(n_estimators=50, max_depth=3)\n",
    "model = Model(\"Survived\", random_forest, metric_list)\n",
    "model.fit(train_df, val_df)"
   ]
  },
  {
   "cell_type": "code",
   "execution_count": 13,
   "metadata": {},
   "outputs": [
    {
     "name": "stdout",
     "output_type": "stream",
     "text": [
      "Training Accuracy: 0.8764\n",
      "Validation Accuracy: 0.7778\n"
     ]
    }
   ],
   "source": [
    "from sklearn.gaussian_process import GaussianProcessClassifier\n",
    "\n",
    "gp = GaussianProcessClassifier()\n",
    "model = Model(\"Survived\", gp, metric_list)\n",
    "model.fit(train_df, val_df)"
   ]
  },
  {
   "cell_type": "code",
   "execution_count": 14,
   "metadata": {},
   "outputs": [],
   "source": [
    "from sklearn import metrics\n",
    "\n",
    "def auc(y, pred):\n",
    "    fpr, tpr, _ = metrics.roc_curve(y, pred[:, 1])\n",
    "    return metrics.auc(fpr, tpr)"
   ]
  },
  {
   "cell_type": "code",
   "execution_count": 15,
   "metadata": {},
   "outputs": [],
   "source": [
    "metric_list[\"AUC\"] = (\"prob\", auc)"
   ]
  },
  {
   "cell_type": "code",
   "execution_count": 16,
   "metadata": {},
   "outputs": [
    {
     "name": "stdout",
     "output_type": "stream",
     "text": [
      "Training Accuracy: 0.7953\n",
      "Validation Accuracy: 0.8222\n",
      "Training AUC: 0.8306\n",
      "Validation AUC: 0.8840\n",
      "==============================\n",
      "Training Accuracy: 0.8140\n",
      "Validation Accuracy: 0.8111\n",
      "Training AUC: 0.8597\n",
      "Validation AUC: 0.8827\n",
      "==============================\n",
      "Training Accuracy: 0.8764\n",
      "Validation Accuracy: 0.7778\n",
      "Training AUC: 0.8937\n",
      "Validation AUC: 0.8228\n",
      "==============================\n"
     ]
    }
   ],
   "source": [
    "for model_ in [logistic, random_forest, gp]:\n",
    "    model = Model(\"Survived\", model_, metric_list)\n",
    "    model.fit(train_df, val_df)\n",
    "    print(\"=\"*30)"
   ]
  },
  {
   "cell_type": "code",
   "execution_count": 23,
   "metadata": {},
   "outputs": [
    {
     "data": {
      "text/plain": [
       "0.38202247191011235"
      ]
     },
     "execution_count": 23,
     "metadata": {},
     "output_type": "execute_result"
    }
   ],
   "source": [
    "train_df[\"Survived\"].mean()"
   ]
  },
  {
   "cell_type": "code",
   "execution_count": null,
   "metadata": {},
   "outputs": [],
   "source": []
  }
 ],
 "metadata": {
  "kernelspec": {
   "display_name": "Python 3",
   "language": "python",
   "name": "python3"
  },
  "language_info": {
   "codemirror_mode": {
    "name": "ipython",
    "version": 3
   },
   "file_extension": ".py",
   "mimetype": "text/x-python",
   "name": "python",
   "nbconvert_exporter": "python",
   "pygments_lexer": "ipython3",
   "version": "3.7.9"
  },
  "metadata": {
   "interpreter": {
    "hash": "99e7601acc4ec6d674e8e01ec071899252d49866fadd6be3a52c494a8bd8e525"
   }
  }
 },
 "nbformat": 4,
 "nbformat_minor": 4
}
